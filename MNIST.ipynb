{
 "cells": [
  {
   "cell_type": "markdown",
   "metadata": {},
   "source": [
    "# **MNIST Dataset Image Classifier**\n",
    "Dataset for this program is provided by kaggle:\n",
    "https://www.kaggle.com/datasets/oddrationale/mnist-in-csv\n",
    "\n",
    "Within this notebook, I implemented a simple two-layered neural network using only Numpy. No other libraries like Tensorflow was used. The dataset used to train this neural-network is the MNIST dataset available in Kaggle through the link above.\n",
    "\n",
    "Disclaimer:\n",
    "Although the entirity of this file is self-coded, I want to credit Samson Zhang on the motivation of this notebook as a majority of the content within this notebook was based on his work. Below are links to find some of his work:\n",
    "- https://www.kaggle.com/code/wwsalmon/simple-mnist-nn-from-scratch-numpy-no-tf-keras\n",
    "- https://www.youtube.com/watch?v=w8yWXqWQYmU\n",
    "\n",
    "## Initialization and Importing Libraries"
   ]
  },
  {
   "cell_type": "code",
   "execution_count": 1,
   "metadata": {},
   "outputs": [],
   "source": [
    "import numpy as np\n",
    "import pandas as pd\n",
    "import matplotlib.pyplot as plt\n",
    "\n",
    "data_train = pd.read_csv('./mnist_train.csv')\n",
    "m, n = data_train.shape\n",
    "\n",
    "data_train = np.array(data_train).T\n",
    "Y_train = data_train[0]\n",
    "X_train = data_train[1:n]\n",
    "X_train = X_train / 255"
   ]
  },
  {
   "cell_type": "markdown",
   "metadata": {},
   "source": [
    "## Defining Functions"
   ]
  },
  {
   "cell_type": "code",
   "execution_count": 2,
   "metadata": {},
   "outputs": [],
   "source": [
    "# Helper functions\n",
    "def init_params():\n",
    "  W1 = np.random.rand(10, 784) - 0.5\n",
    "  b1 = np.random.rand(10, 1) - 0.5\n",
    "  W2 = np.random.rand(10, 10) - 0.5\n",
    "  b2 = np.random.rand(10, 1) - 0.5\n",
    "  return W1, b1, W2, b2\n",
    "\n",
    "# Activation Functions\n",
    "def ReLU(Z):\n",
    "  return np.maximum(Z, 0)\n",
    "\n",
    "def deriv_ReLU(Z):\n",
    "  return Z > 0\n",
    "\n",
    "def softmax(Z):\n",
    "  A = np.exp(Z) / sum(np.exp(Z))\n",
    "  return A\n",
    "\n",
    "# Hard coding Y for back propagation\n",
    "def one_hot(Y):\n",
    "  one_hot_Y = np.zeros((Y.size, Y.max() + 1))\n",
    "  one_hot_Y[np.arange(Y.size), Y] = 1\n",
    "  one_hot_Y = one_hot_Y.T\n",
    "  return one_hot_Y\n",
    "\n",
    "# Printing functions\n",
    "def get_predictions(A2):\n",
    "  return np.argmax(A2, 0)\n",
    "\n",
    "def get_accuracy(predictions, Y):\n",
    "  print(predictions, Y)\n",
    "  return np.sum(predictions == Y) / Y.size\n",
    "\n",
    "# Mathematical Functions\n",
    "def forward_propagation(W1, b1, W2, b2, X):\n",
    "  Z1 = W1.dot(X) + b1\n",
    "  A1 = ReLU(Z1)\n",
    "  Z2 = W2.dot(A1) + b2\n",
    "  A2 = softmax(Z2)\n",
    "  # Note that A2 here represents the output layer\n",
    "  # We will extract this to get the prediction\n",
    "  return Z1, A1, Z2, A2\n",
    "\n",
    "# We don't really need Z2, but I just included to make all the function parameters uniform\n",
    "def backward_propagation(Z1, A1, Z2, A2, W2, X, Y):\n",
    "  one_hot_Y = one_hot(Y)\n",
    "  dZ2 = A2 - one_hot_Y\n",
    "  dW2 = (1 / m) * dZ2.dot(A1.T)\n",
    "  db2 = (1 / m) * np.sum(dZ2)\n",
    "  \n",
    "  dZ1 = W2.T.dot(dZ2) * deriv_ReLU(Z1)\n",
    "  dW1 = (1 / m) * dZ1.dot(X.T)\n",
    "  db1 = (1 / m) * np.sum(dZ1)\n",
    "  return dW1, db1, dW2, db2\n",
    "\n",
    "def update_parameters(W1, b1, W2, b2, dW1, db1, dW2, db2, alpha):\n",
    "  W1 = W1 - alpha * dW1\n",
    "  b1 = b1 - alpha * db1\n",
    "  W2 = W2 - alpha * dW2\n",
    "  b2 = b2 - alpha * db2\n",
    "  return W1, b1, W2, b2\n"
   ]
  },
  {
   "cell_type": "markdown",
   "metadata": {},
   "source": [
    "## Training the Neural Network Using Gradient Descent"
   ]
  },
  {
   "cell_type": "code",
   "execution_count": 3,
   "metadata": {},
   "outputs": [],
   "source": [
    "\n",
    "def gradient_descent(X, Y, iterations, alpha):\n",
    "  W1, b1, W2, b2 = init_params()\n",
    "  for i in range(iterations + 1):\n",
    "    Z1, A1, Z2, A2 = forward_propagation(W1, b1, W2, b2, X)\n",
    "    dW1, db1, dW2, db2 = backward_propagation(Z1, A1, Z2, A2, W2, X, Y)\n",
    "    W1, b1, W2, b2 = update_parameters(W1, b1, W2, b2, dW1, db1, dW2, db2, alpha)\n",
    "    if (i % 50 == 0):\n",
    "      print(\"Iteration: \", i)\n",
    "      print(\"Accuracy: \", get_accuracy(get_predictions(A2), Y))\n",
    "  return W1, b1, W2, b2\n"
   ]
  },
  {
   "cell_type": "code",
   "execution_count": 4,
   "metadata": {},
   "outputs": [
    {
     "name": "stdout",
     "output_type": "stream",
     "text": [
      "Iteration:  0\n",
      "[2 2 2 ... 2 7 2] [5 0 4 ... 5 6 8]\n",
      "Accuracy:  0.12141666666666667\n",
      "Iteration:  50\n",
      "[0 0 3 ... 7 9 7] [5 0 4 ... 5 6 8]\n",
      "Accuracy:  0.49005\n",
      "Iteration:  100\n",
      "[0 0 8 ... 7 6 7] [5 0 4 ... 5 6 8]\n",
      "Accuracy:  0.6560666666666667\n",
      "Iteration:  150\n",
      "[0 0 8 ... 7 6 0] [5 0 4 ... 5 6 8]\n",
      "Accuracy:  0.7298666666666667\n",
      "Iteration:  200\n",
      "[3 0 8 ... 7 6 0] [5 0 4 ... 5 6 8]\n",
      "Accuracy:  0.77\n",
      "Iteration:  250\n",
      "[3 0 8 ... 5 6 0] [5 0 4 ... 5 6 8]\n",
      "Accuracy:  0.7943833333333333\n",
      "Iteration:  300\n",
      "[3 0 8 ... 5 6 0] [5 0 4 ... 5 6 8]\n",
      "Accuracy:  0.8108666666666666\n",
      "Iteration:  350\n",
      "[3 0 8 ... 5 6 0] [5 0 4 ... 5 6 8]\n",
      "Accuracy:  0.8235666666666667\n",
      "Iteration:  400\n",
      "[3 0 8 ... 5 6 0] [5 0 4 ... 5 6 8]\n",
      "Accuracy:  0.8333333333333334\n",
      "Iteration:  450\n",
      "[3 0 8 ... 5 6 0] [5 0 4 ... 5 6 8]\n",
      "Accuracy:  0.8408\n",
      "Iteration:  500\n",
      "[3 0 8 ... 5 6 0] [5 0 4 ... 5 6 8]\n",
      "Accuracy:  0.8464333333333334\n",
      "Iteration:  550\n",
      "[3 0 8 ... 5 6 0] [5 0 4 ... 5 6 8]\n",
      "Accuracy:  0.85155\n",
      "Iteration:  600\n",
      "[3 0 8 ... 5 6 0] [5 0 4 ... 5 6 8]\n",
      "Accuracy:  0.8556333333333334\n",
      "Iteration:  650\n",
      "[3 0 8 ... 5 6 0] [5 0 4 ... 5 6 8]\n",
      "Accuracy:  0.85945\n",
      "Iteration:  700\n",
      "[3 0 8 ... 5 6 0] [5 0 4 ... 5 6 8]\n",
      "Accuracy:  0.8626833333333334\n",
      "Iteration:  750\n",
      "[3 0 8 ... 5 6 0] [5 0 4 ... 5 6 8]\n",
      "Accuracy:  0.8653\n",
      "Iteration:  800\n",
      "[3 0 8 ... 5 6 0] [5 0 4 ... 5 6 8]\n",
      "Accuracy:  0.8681333333333333\n",
      "Iteration:  850\n",
      "[3 0 8 ... 5 6 0] [5 0 4 ... 5 6 8]\n",
      "Accuracy:  0.8704166666666666\n",
      "Iteration:  900\n",
      "[3 0 8 ... 5 6 0] [5 0 4 ... 5 6 8]\n",
      "Accuracy:  0.8723333333333333\n",
      "Iteration:  950\n",
      "[3 0 8 ... 5 6 0] [5 0 4 ... 5 6 8]\n",
      "Accuracy:  0.87415\n",
      "Iteration:  1000\n",
      "[3 0 8 ... 5 6 0] [5 0 4 ... 5 6 8]\n",
      "Accuracy:  0.8762666666666666\n"
     ]
    }
   ],
   "source": [
    "W1, b1, W2, b2 = gradient_descent(X_train, Y_train, 1000, 0.1)"
   ]
  },
  {
   "cell_type": "markdown",
   "metadata": {},
   "source": [
    "## Testing the Accuracy of the Neural Network"
   ]
  },
  {
   "cell_type": "code",
   "execution_count": 90,
   "metadata": {},
   "outputs": [],
   "source": [
    "# Testing Prediction Functions\n",
    "def predict(X, W1, b1, W2, b2):\n",
    "  _, _, _, A2 = forward_propagation(W1, b1, W2, b2, X)\n",
    "  prediction = get_predictions(A2)\n",
    "  return prediction\n",
    "\n",
    "def test_prediction(index, W1, b1, W2, b2):\n",
    "  selected_image = X_train[:, index, None]\n",
    "  prediction = predict(X_train[:, index, None], W1, b1, W2, b2)\n",
    "  label = Y_train[index]\n",
    "  print(\"Prediction: \", prediction)\n",
    "  print(\"Label: \", label)\n",
    "  \n",
    "  selected_image = selected_image.reshape((28, 28)) * 255\n",
    "  plt.gray()\n",
    "  plt.imshow(selected_image, interpolation='nearest')\n",
    "  plt.show()"
   ]
  },
  {
   "cell_type": "code",
   "execution_count": 99,
   "metadata": {},
   "outputs": [
    {
     "name": "stdout",
     "output_type": "stream",
     "text": [
      "Prediction:  [6]\n",
      "Label:  6\n"
     ]
    },
    {
     "data": {
      "image/png": "[encoded data removed]",
      "text/plain": [
       "<Figure size 640x480 with 1 Axes>"
      ]
     },
     "metadata": {},
     "output_type": "display_data"
    }
   ],
   "source": [
    "test_prediction(106, W1, b1, W2, b2)"
   ]
  },
  {
   "cell_type": "code",
   "execution_count": null,
   "metadata": {},
   "outputs": [],
   "source": []
  }
 ],
 "metadata": {
  "kernelspec": {
   "display_name": "Python 3",
   "language": "python",
   "name": "python3"
  },
  "language_info": {
   "codemirror_mode": {
    "name": "ipython",
    "version": 3
   },
   "file_extension": ".py",
   "mimetype": "text/x-python",
   "name": "python",
   "nbconvert_exporter": "python",
   "pygments_lexer": "ipython3",
   "version": "3.11.4"
  }
 },
 "nbformat": 4,
 "nbformat_minor": 2
}
