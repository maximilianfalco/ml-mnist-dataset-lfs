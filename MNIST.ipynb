{
 "cells": [
  {
   "cell_type": "markdown",
   "metadata": {},
   "source": [
    "# **MNIST Dataset Image Classifier**\n",
    "Dataset for this program is provided by kaggle:\n",
    "https://www.kaggle.com/datasets/oddrationale/mnist-in-csv\n",
    "\n",
    "Within this notebook, I implemented a simple two-layered neural network using only Numpy. No other libraries like Tensorflow was used. The dataset used to train this neural-network is the MNIST dataset available in Kaggle through the link above.\n",
    "\n",
    "Disclaimer:\n",
    "Although the entirity of this file is self-coded, I want to credit Samson Zhang on the motivation of this notebook as a majority of the content within this notebook was based on his work. Below are links to find some of his work:\n",
    "- https://www.kaggle.com/code/wwsalmon/simple-mnist-nn-from-scratch-numpy-no-tf-keras\n",
    "- https://www.youtube.com/watch?v=w8yWXqWQYmU\n",
    "\n",
    "## Initialization and Importing Libraries"
   ]
  },
  {
   "cell_type": "code",
   "execution_count": 1,
   "metadata": {},
   "outputs": [],
   "source": [
    "import numpy as np\n",
    "import pandas as pd\n",
    "import matplotlib.pyplot as plt\n",
    "\n",
    "data_train = pd.read_csv('./mnist_train.csv')\n",
    "m, n = data_train.shape\n",
    "\n",
    "data_train = np.array(data_train).T\n",
    "Y_train = data_train[0]\n",
    "X_train = data_train[1:n]\n",
    "X_train = X_train / 255"
   ]
  },
  {
   "cell_type": "markdown",
   "metadata": {},
   "source": [
    "## Defining Functions"
   ]
  },
  {
   "cell_type": "code",
   "execution_count": 2,
   "metadata": {},
   "outputs": [],
   "source": [
    "# Helper functions\n",
    "def init_params():\n",
    "  W1 = np.random.rand(10, 784) - 0.5\n",
    "  b1 = np.random.rand(10, 1) - 0.5\n",
    "  W2 = np.random.rand(10, 10) - 0.5\n",
    "  b2 = np.random.rand(10, 1) - 0.5\n",
    "  return W1, b1, W2, b2\n",
    "\n",
    "# Activation Functions\n",
    "def ReLU(Z):\n",
    "  return np.maximum(Z, 0)\n",
    "\n",
    "def deriv_ReLU(Z):\n",
    "  return Z > 0\n",
    "\n",
    "def softmax(Z):\n",
    "  A = np.exp(Z) / sum(np.exp(Z))\n",
    "  return A\n",
    "\n",
    "# Hard coding Y for back propagation\n",
    "def one_hot(Y):\n",
    "  one_hot_Y = np.zeros((Y.size, Y.max() + 1))\n",
    "  one_hot_Y[np.arange(Y.size), Y] = 1\n",
    "  one_hot_Y = one_hot_Y.T\n",
    "  return one_hot_Y\n",
    "\n",
    "# Printing functions\n",
    "def get_predictions(A2):\n",
    "  return np.argmax(A2, 0)\n",
    "\n",
    "def get_accuracy(predictions, Y):\n",
    "  print(predictions, Y)\n",
    "  return np.sum(predictions == Y) / Y.size\n",
    "\n",
    "# Mathematical Functions\n",
    "def forward_propagation(W1, b1, W2, b2, X):\n",
    "  Z1 = W1.dot(X) + b1\n",
    "  A1 = ReLU(Z1)\n",
    "  Z2 = W2.dot(A1) + b2\n",
    "  A2 = softmax(Z2)\n",
    "  # Note that A2 here represents the output layer\n",
    "  # We will extract this to get the prediction\n",
    "  return Z1, A1, Z2, A2\n",
    "\n",
    "# We don't really need Z2, but I just included to make all the function parameters uniform\n",
    "def backward_propagation(Z1, A1, Z2, A2, W2, X, Y):\n",
    "  one_hot_Y = one_hot(Y)\n",
    "  dZ2 = A2 - one_hot_Y\n",
    "  dW2 = (1 / m) * dZ2.dot(A1.T)\n",
    "  db2 = (1 / m) * np.sum(dZ2)\n",
    "  \n",
    "  dZ1 = W2.T.dot(dZ2) * deriv_ReLU(Z1)\n",
    "  dW1 = (1 / m) * dZ1.dot(X.T)\n",
    "  db1 = (1 / m) * np.sum(dZ1)\n",
    "  return dW1, db1, dW2, db2\n",
    "\n",
    "def update_parameters(W1, b1, W2, b2, dW1, db1, dW2, db2, alpha):\n",
    "  W1 = W1 - alpha * dW1\n",
    "  b1 = b1 - alpha * db1\n",
    "  W2 = W2 - alpha * dW2\n",
    "  b2 = b2 - alpha * db2\n",
    "  return W1, b1, W2, b2\n"
   ]
  },
  {
   "cell_type": "markdown",
   "metadata": {},
   "source": [
    "## Training the Neural Network Using Gradient Descent"
   ]
  },
  {
   "cell_type": "code",
   "execution_count": 3,
   "metadata": {},
   "outputs": [],
   "source": [
    "\n",
    "def gradient_descent(X, Y, iterations, alpha):\n",
    "  # Variables used to plot graph later on\n",
    "  y_axis = [] # accuracy\n",
    "  x_axis = [] # number of iterations\n",
    "  # Init params\n",
    "  W1, b1, W2, b2 = init_params()\n",
    "  for i in range(iterations + 1):\n",
    "    Z1, A1, Z2, A2 = forward_propagation(W1, b1, W2, b2, X)\n",
    "    dW1, db1, dW2, db2 = backward_propagation(Z1, A1, Z2, A2, W2, X, Y)\n",
    "    W1, b1, W2, b2 = update_parameters(W1, b1, W2, b2, dW1, db1, dW2, db2, alpha)\n",
    "    if (i % 50 == 0):\n",
    "      accuracy = get_accuracy(get_predictions(A2), Y)\n",
    "      print(\"Iteration: \", i)\n",
    "      print(\"Accuracy: \", accuracy)\n",
    "      x_axis.append(i)\n",
    "      y_axis.append(accuracy)\n",
    "  return W1, b1, W2, b2, y_axis, x_axis\n"
   ]
  },
  {
   "cell_type": "code",
   "execution_count": 6,
   "metadata": {},
   "outputs": [
    {
     "name": "stdout",
     "output_type": "stream",
     "text": [
      "[9 8 2 ... 9 6 2] [5 0 4 ... 5 6 8]\n",
      "Iteration:  0\n",
      "Accuracy:  0.09983333333333333\n",
      "[2 0 5 ... 7 2 8] [5 0 4 ... 5 6 8]\n",
      "Iteration:  50\n",
      "Accuracy:  0.4154833333333333\n",
      "[2 0 5 ... 8 6 8] [5 0 4 ... 5 6 8]\n",
      "Iteration:  100\n",
      "Accuracy:  0.57785\n",
      "[2 0 5 ... 8 6 8] [5 0 4 ... 5 6 8]\n",
      "Iteration:  150\n",
      "Accuracy:  0.65455\n",
      "[5 0 4 ... 5 6 8] [5 0 4 ... 5 6 8]\n",
      "Iteration:  200\n",
      "Accuracy:  0.70825\n",
      "[5 0 4 ... 5 6 8] [5 0 4 ... 5 6 8]\n",
      "Iteration:  250\n",
      "Accuracy:  0.74815\n",
      "[5 0 4 ... 5 6 8] [5 0 4 ... 5 6 8]\n",
      "Iteration:  300\n",
      "Accuracy:  0.77705\n",
      "[5 0 4 ... 5 6 8] [5 0 4 ... 5 6 8]\n",
      "Iteration:  350\n",
      "Accuracy:  0.8000833333333334\n",
      "[5 0 4 ... 5 6 8] [5 0 4 ... 5 6 8]\n",
      "Iteration:  400\n",
      "Accuracy:  0.81605\n",
      "[5 0 4 ... 5 6 8] [5 0 4 ... 5 6 8]\n",
      "Iteration:  450\n",
      "Accuracy:  0.82815\n",
      "[5 0 4 ... 5 6 8] [5 0 4 ... 5 6 8]\n",
      "Iteration:  500\n",
      "Accuracy:  0.8379166666666666\n",
      "[5 0 4 ... 5 6 8] [5 0 4 ... 5 6 8]\n",
      "Iteration:  550\n",
      "Accuracy:  0.8450666666666666\n",
      "[5 0 4 ... 5 6 8] [5 0 4 ... 5 6 8]\n",
      "Iteration:  600\n",
      "Accuracy:  0.85095\n",
      "[5 0 4 ... 5 6 8] [5 0 4 ... 5 6 8]\n",
      "Iteration:  650\n",
      "Accuracy:  0.8564\n",
      "[5 0 4 ... 5 6 8] [5 0 4 ... 5 6 8]\n",
      "Iteration:  700\n",
      "Accuracy:  0.8599\n",
      "[5 0 4 ... 5 6 8] [5 0 4 ... 5 6 8]\n",
      "Iteration:  750\n",
      "Accuracy:  0.8634166666666667\n",
      "[5 0 4 ... 5 6 8] [5 0 4 ... 5 6 8]\n",
      "Iteration:  800\n",
      "Accuracy:  0.8664666666666667\n",
      "[5 0 4 ... 5 6 8] [5 0 4 ... 5 6 8]\n",
      "Iteration:  850\n",
      "Accuracy:  0.8692333333333333\n",
      "[5 0 4 ... 5 6 8] [5 0 4 ... 5 6 8]\n",
      "Iteration:  900\n",
      "Accuracy:  0.8722333333333333\n",
      "[5 0 4 ... 5 6 8] [5 0 4 ... 5 6 8]\n",
      "Iteration:  950\n",
      "Accuracy:  0.8743\n",
      "[5 0 4 ... 5 6 8] [5 0 4 ... 5 6 8]\n",
      "Iteration:  1000\n",
      "Accuracy:  0.8761833333333333\n"
     ]
    }
   ],
   "source": [
    "W1, b1, W2, b2, y_points, x_points = gradient_descent(X_train, Y_train, 1000, 0.1)"
   ]
  },
  {
   "cell_type": "markdown",
   "metadata": {},
   "source": [
    "## Displaying the Neural Network's Training Arc"
   ]
  },
  {
   "cell_type": "code",
   "execution_count": 7,
   "metadata": {},
   "outputs": [
    {
     "data": {
      "image/png": "[encoded data removed]",
      "text/plain": [
       "<Figure size 640x480 with 1 Axes>"
      ]
     },
     "metadata": {},
     "output_type": "display_data"
    }
   ],
   "source": [
    "plt.plot(x_points, y_points)\n",
    "plt.ylabel(\"Accuracy\")\n",
    "plt.xlabel(\"Iterations\")\n",
    "plt.show()"
   ]
  },
  {
   "cell_type": "markdown",
   "metadata": {},
   "source": [
    "## Testing the Accuracy of the Neural Network"
   ]
  },
  {
   "cell_type": "code",
   "execution_count": 8,
   "metadata": {},
   "outputs": [],
   "source": [
    "# Testing Prediction Functions\n",
    "def predict(X, W1, b1, W2, b2):\n",
    "  _, _, _, A2 = forward_propagation(W1, b1, W2, b2, X)\n",
    "  prediction = get_predictions(A2)\n",
    "  return prediction\n",
    "\n",
    "def test_prediction(index, W1, b1, W2, b2):\n",
    "  selected_image = X_train[:, index, None]\n",
    "  prediction = predict(X_train[:, index, None], W1, b1, W2, b2)\n",
    "  label = Y_train[index]\n",
    "  print(\"Prediction: \", prediction)\n",
    "  print(\"Label: \", label)\n",
    "  \n",
    "  selected_image = selected_image.reshape((28, 28)) * 255\n",
    "  plt.gray()\n",
    "  plt.imshow(selected_image, interpolation='nearest')\n",
    "  plt.show()"
   ]
  },
  {
   "cell_type": "code",
   "execution_count": 13,
   "metadata": {},
   "outputs": [
    {
     "name": "stdout",
     "output_type": "stream",
     "text": [
      "Prediction:  [1]\n",
      "Label:  1\n"
     ]
    },
    {
     "data": {
      "image/png": "[encoded data removed]",
      "text/plain": [
       "<Figure size 640x480 with 1 Axes>"
      ]
     },
     "metadata": {},
     "output_type": "display_data"
    }
   ],
   "source": [
    "test_prediction(3456, W1, b1, W2, b2)"
   ]
  },
  {
   "cell_type": "code",
   "execution_count": null,
   "metadata": {},
   "outputs": [],
   "source": []
  }
 ],
 "metadata": {
  "kernelspec": {
   "display_name": "Python 3",
   "language": "python",
   "name": "python3"
  },
  "language_info": {
   "codemirror_mode": {
    "name": "ipython",
    "version": 3
   },
   "file_extension": ".py",
   "mimetype": "text/x-python",
   "name": "python",
   "nbconvert_exporter": "python",
   "pygments_lexer": "ipython3",
   "version": "3.11.4"
  }
 },
 "nbformat": 4,
 "nbformat_minor": 2
}
